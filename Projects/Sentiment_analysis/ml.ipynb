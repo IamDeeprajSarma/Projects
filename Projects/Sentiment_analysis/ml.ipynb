{
 "cells": [
  {
   "cell_type": "markdown",
   "id": "0e435469-7971-48d7-bd3b-dd8216dc9d49",
   "metadata": {},
   "source": [
    "# Libraries"
   ]
  },
  {
   "cell_type": "code",
   "execution_count": 7,
   "id": "3bd0d27b-b335-4a98-a3c4-a3705f45a80f",
   "metadata": {},
   "outputs": [],
   "source": [
    "import numpy as np\n",
    "import pandas as pd\n",
    "import matplotlib.pyplot as plt\n",
    "%matplotlib inline\n",
    "import seaborn as sns\n",
    "import re,json,nltk\n",
    "from sklearn.preprocessing import LabelEncoder\n",
    "from sklearn.feature_extraction.text import TfidfVectorizer\n",
    "from sklearn.model_selection import train_test_split\n",
    "from sklearn.metrics import classification_report,accuracy_score,precision_score,recall_score,f1_score\n",
    "from tensorflow.keras.preprocessing.text import Tokenizer"
   ]
  },
  {
   "cell_type": "code",
   "execution_count": 8,
   "id": "060de4e5-2cf6-4254-adf0-78e49c268700",
   "metadata": {},
   "outputs": [
    {
     "data": {
      "text/html": [
       "<div>\n",
       "<style scoped>\n",
       "    .dataframe tbody tr th:only-of-type {\n",
       "        vertical-align: middle;\n",
       "    }\n",
       "\n",
       "    .dataframe tbody tr th {\n",
       "        vertical-align: top;\n",
       "    }\n",
       "\n",
       "    .dataframe thead th {\n",
       "        text-align: right;\n",
       "    }\n",
       "</style>\n",
       "<table border=\"1\" class=\"dataframe\">\n",
       "  <thead>\n",
       "    <tr style=\"text-align: right;\">\n",
       "      <th></th>\n",
       "      <th>Data</th>\n",
       "      <th>Label</th>\n",
       "    </tr>\n",
       "  </thead>\n",
       "  <tbody>\n",
       "    <tr>\n",
       "      <th>0</th>\n",
       "      <td>মুগ্ধ হয়ে গেলাম মামু. আর তোমায় কি কমু. বলো তোম...</td>\n",
       "      <td>1</td>\n",
       "    </tr>\n",
       "    <tr>\n",
       "      <th>1</th>\n",
       "      <td>এই কুত্তার বাচ্চাদের জন্য দেশটা আজ এমন অবস্তায়...</td>\n",
       "      <td>2</td>\n",
       "    </tr>\n",
       "    <tr>\n",
       "      <th>2</th>\n",
       "      <td>ভাই আপনার কথাই যাদু রয়েছে</td>\n",
       "      <td>1</td>\n",
       "    </tr>\n",
       "    <tr>\n",
       "      <th>3</th>\n",
       "      <td>উওরটা আমার অনেক ভাল লেগেছে</td>\n",
       "      <td>1</td>\n",
       "    </tr>\n",
       "    <tr>\n",
       "      <th>4</th>\n",
       "      <td>আমার নিজের গাড়ী নিয়ে কি সাজেক যেতে পারবো না ?...</td>\n",
       "      <td>0</td>\n",
       "    </tr>\n",
       "    <tr>\n",
       "      <th>5</th>\n",
       "      <td>যেমন : পরীক্ষার রেজাল্টের সময় , বিভিন্ন ব্যানি...</td>\n",
       "      <td>0</td>\n",
       "    </tr>\n",
       "    <tr>\n",
       "      <th>6</th>\n",
       "      <td>বিশ্বনন্দিত বিশ্ব জয় করা ইসলামের পাখিদের কোরআ...</td>\n",
       "      <td>2</td>\n",
       "    </tr>\n",
       "    <tr>\n",
       "      <th>7</th>\n",
       "      <td>সাপ্তাহিক মুসুল্লিদের কথাটাও তুলে ধরলে ভাই , চ...</td>\n",
       "      <td>1</td>\n",
       "    </tr>\n",
       "    <tr>\n",
       "      <th>8</th>\n",
       "      <td>আমি ভেবেছিলাম গালিগালাজ করে সেরা ছেলে সে ? গাল...</td>\n",
       "      <td>0</td>\n",
       "    </tr>\n",
       "    <tr>\n",
       "      <th>9</th>\n",
       "      <td>তুমি রেপারই হও , ডাক্তার হওয়ার দরকার নাই তোমার</td>\n",
       "      <td>0</td>\n",
       "    </tr>\n",
       "  </tbody>\n",
       "</table>\n",
       "</div>"
      ],
      "text/plain": [
       "                                                Data  Label\n",
       "0  মুগ্ধ হয়ে গেলাম মামু. আর তোমায় কি কমু. বলো তোম...      1\n",
       "1  এই কুত্তার বাচ্চাদের জন্য দেশটা আজ এমন অবস্তায়...      2\n",
       "2                          ভাই আপনার কথাই যাদু রয়েছে      1\n",
       "3                        উওরটা আমার অনেক ভাল লেগেছে       1\n",
       "4  আমার নিজের গাড়ী নিয়ে কি সাজেক যেতে পারবো না ?...      0\n",
       "5  যেমন : পরীক্ষার রেজাল্টের সময় , বিভিন্ন ব্যানি...      0\n",
       "6  বিশ্বনন্দিত বিশ্ব জয় করা ইসলামের পাখিদের কোরআ...      2\n",
       "7  সাপ্তাহিক মুসুল্লিদের কথাটাও তুলে ধরলে ভাই , চ...      1\n",
       "8  আমি ভেবেছিলাম গালিগালাজ করে সেরা ছেলে সে ? গাল...      0\n",
       "9    তুমি রেপারই হও , ডাক্তার হওয়ার দরকার নাই তোমার       0"
      ]
     },
     "execution_count": 8,
     "metadata": {},
     "output_type": "execute_result"
    }
   ],
   "source": [
    "data = pd.read_csv('Train.csv',encoding='UTF-8')\n",
    "\n",
    "data.head(10)"
   ]
  },
  {
   "cell_type": "markdown",
   "id": "b6f0294c-bd98-4101-b404-bcebe26ff4e4",
   "metadata": {},
   "source": [
    "### updating the column value/data "
   ]
  },
  {
   "cell_type": "code",
   "execution_count": 9,
   "id": "a12eb66c-852d-4025-b8ab-645291ff09b8",
   "metadata": {},
   "outputs": [
    {
     "name": "stdout",
     "output_type": "stream",
     "text": [
      "                                                    Data     Label\n",
      "0      মুগ্ধ হয়ে গেলাম মামু. আর তোমায় কি কমু. বলো তোম...  Positive\n",
      "1      এই কুত্তার বাচ্চাদের জন্য দেশটা আজ এমন অবস্তায়...  Negative\n",
      "2                              ভাই আপনার কথাই যাদু রয়েছে  Positive\n",
      "3                            উওরটা আমার অনেক ভাল লেগেছে   Positive\n",
      "4      আমার নিজের গাড়ী নিয়ে কি সাজেক যেতে পারবো না ?...   Neutral\n",
      "...                                                  ...       ...\n",
      "12570  বর্ডারে অনেক লেট হয়ে যাওয়াতে আমরা জিপে করে চলে...  Positive\n",
      "12571  আমার সোনার বাংলাতে এমন রক্ষক নামের ভক্ষকের কোন...  Negative\n",
      "12572  ওনারা এত হাইজিনিক ও এত সুন্দর পরিবেশে রান্না ক...  Positive\n",
      "12573  বাংলাদেশ আমরা পুলিশ চাই না এই ধরনে পুলিশ দরকার...  Negative\n",
      "12574         বসুন্ধরা শাখার হাজি বিরিয়ানি একবারেই ফালতু  Negative\n",
      "\n",
      "[12575 rows x 2 columns]\n"
     ]
    }
   ],
   "source": [
    "# changing '0' , '1' , '2' as 'Neutral' , 'Positive' & 'Negative'\n",
    "data['Label'] = data['Label'].replace({1: 'Positive'}) \n",
    "data['Label'] = data['Label'].replace({2: 'Negative'}) \n",
    "data['Label'] = data['Label'].replace({0: 'Neutral'}) \n",
    "# writing into the file \n",
    "data.to_csv(\"AllDetails.csv\", index=False) \n",
    "print(data)"
   ]
  },
  {
   "cell_type": "code",
   "execution_count": 10,
   "id": "eb5bca74-80c7-4842-9b83-eaf41185225a",
   "metadata": {},
   "outputs": [
    {
     "data": {
      "text/html": [
       "<div>\n",
       "<style scoped>\n",
       "    .dataframe tbody tr th:only-of-type {\n",
       "        vertical-align: middle;\n",
       "    }\n",
       "\n",
       "    .dataframe tbody tr th {\n",
       "        vertical-align: top;\n",
       "    }\n",
       "\n",
       "    .dataframe thead th {\n",
       "        text-align: right;\n",
       "    }\n",
       "</style>\n",
       "<table border=\"1\" class=\"dataframe\">\n",
       "  <thead>\n",
       "    <tr style=\"text-align: right;\">\n",
       "      <th></th>\n",
       "      <th>Data</th>\n",
       "      <th>Label</th>\n",
       "    </tr>\n",
       "  </thead>\n",
       "  <tbody>\n",
       "    <tr>\n",
       "      <th>0</th>\n",
       "      <td>মুগ্ধ হয়ে গেলাম মামু. আর তোমায় কি কমু. বলো তোম...</td>\n",
       "      <td>Positive</td>\n",
       "    </tr>\n",
       "    <tr>\n",
       "      <th>1</th>\n",
       "      <td>এই কুত্তার বাচ্চাদের জন্য দেশটা আজ এমন অবস্তায়...</td>\n",
       "      <td>Negative</td>\n",
       "    </tr>\n",
       "    <tr>\n",
       "      <th>2</th>\n",
       "      <td>ভাই আপনার কথাই যাদু রয়েছে</td>\n",
       "      <td>Positive</td>\n",
       "    </tr>\n",
       "    <tr>\n",
       "      <th>3</th>\n",
       "      <td>উওরটা আমার অনেক ভাল লেগেছে</td>\n",
       "      <td>Positive</td>\n",
       "    </tr>\n",
       "    <tr>\n",
       "      <th>4</th>\n",
       "      <td>আমার নিজের গাড়ী নিয়ে কি সাজেক যেতে পারবো না ?...</td>\n",
       "      <td>Neutral</td>\n",
       "    </tr>\n",
       "    <tr>\n",
       "      <th>5</th>\n",
       "      <td>যেমন : পরীক্ষার রেজাল্টের সময় , বিভিন্ন ব্যানি...</td>\n",
       "      <td>Neutral</td>\n",
       "    </tr>\n",
       "    <tr>\n",
       "      <th>6</th>\n",
       "      <td>বিশ্বনন্দিত বিশ্ব জয় করা ইসলামের পাখিদের কোরআ...</td>\n",
       "      <td>Negative</td>\n",
       "    </tr>\n",
       "    <tr>\n",
       "      <th>7</th>\n",
       "      <td>সাপ্তাহিক মুসুল্লিদের কথাটাও তুলে ধরলে ভাই , চ...</td>\n",
       "      <td>Positive</td>\n",
       "    </tr>\n",
       "    <tr>\n",
       "      <th>8</th>\n",
       "      <td>আমি ভেবেছিলাম গালিগালাজ করে সেরা ছেলে সে ? গাল...</td>\n",
       "      <td>Neutral</td>\n",
       "    </tr>\n",
       "    <tr>\n",
       "      <th>9</th>\n",
       "      <td>তুমি রেপারই হও , ডাক্তার হওয়ার দরকার নাই তোমার</td>\n",
       "      <td>Neutral</td>\n",
       "    </tr>\n",
       "  </tbody>\n",
       "</table>\n",
       "</div>"
      ],
      "text/plain": [
       "                                                Data     Label\n",
       "0  মুগ্ধ হয়ে গেলাম মামু. আর তোমায় কি কমু. বলো তোম...  Positive\n",
       "1  এই কুত্তার বাচ্চাদের জন্য দেশটা আজ এমন অবস্তায়...  Negative\n",
       "2                          ভাই আপনার কথাই যাদু রয়েছে  Positive\n",
       "3                        উওরটা আমার অনেক ভাল লেগেছে   Positive\n",
       "4  আমার নিজের গাড়ী নিয়ে কি সাজেক যেতে পারবো না ?...   Neutral\n",
       "5  যেমন : পরীক্ষার রেজাল্টের সময় , বিভিন্ন ব্যানি...   Neutral\n",
       "6  বিশ্বনন্দিত বিশ্ব জয় করা ইসলামের পাখিদের কোরআ...  Negative\n",
       "7  সাপ্তাহিক মুসুল্লিদের কথাটাও তুলে ধরলে ভাই , চ...  Positive\n",
       "8  আমি ভেবেছিলাম গালিগালাজ করে সেরা ছেলে সে ? গাল...   Neutral\n",
       "9    তুমি রেপারই হও , ডাক্তার হওয়ার দরকার নাই তোমার    Neutral"
      ]
     },
     "execution_count": 10,
     "metadata": {},
     "output_type": "execute_result"
    }
   ],
   "source": [
    "data.head(10)"
   ]
  },
  {
   "cell_type": "markdown",
   "id": "4f0745ad-f20c-4072-a8f9-3c594e91ebb7",
   "metadata": {},
   "source": [
    "# Dataset Preparation"
   ]
  },
  {
   "cell_type": "code",
   "execution_count": 11,
   "id": "c6267170-e0d3-46d5-8a5f-969607bdfdd2",
   "metadata": {},
   "outputs": [
    {
     "name": "stdout",
     "output_type": "stream",
     "text": [
      "Total Reviews: 12575 \n",
      "Total label as Neutral: 2894 \n",
      "Total label as Positive: 5133 \n",
      "Total label as Negative: 4548\n"
     ]
    }
   ],
   "source": [
    "print(\"Total Reviews:\",len(data),\n",
    "      \"\\nTotal label as Neutral:\",len(data[data.Label == 'Neutral']),\n",
    "      \"\\nTotal label as Positive:\",len(data[data.Label == 'Positive']),\n",
    "      \"\\nTotal label as Negative:\",len(data[data.Label == 'Negative']))"
   ]
  },
  {
   "cell_type": "code",
   "execution_count": 12,
   "id": "88641b4b-aa9e-4b8b-ab23-9f4b080a3bad",
   "metadata": {},
   "outputs": [
    {
     "data": {
      "text/plain": [
       "Index(['Data', 'Label'], dtype='object')"
      ]
     },
     "execution_count": 12,
     "metadata": {},
     "output_type": "execute_result"
    }
   ],
   "source": [
    "data.columns"
   ]
  },
  {
   "cell_type": "code",
   "execution_count": 13,
   "id": "fe4b1a0f-bf26-4959-a56d-2d83a9c53b7c",
   "metadata": {},
   "outputs": [
    {
     "name": "stdout",
     "output_type": "stream",
     "text": [
      "ভুটানে একা যেয়ে পুশাবে না । ঐখানে পাব্লিক বাস খুবই কম । নাই বললেই চলে । ঐখানে শেয়ারড ট্যাক্সি পাবেন \n",
      " Sentiment:--  Neutral \n",
      "\n",
      "ভর দুপুরে এত খাবার দেখে ভীষণ লোভ লাগল দাদা , দিদি কে দেখতে পেলে ভালো লাগত  \n",
      " Sentiment:--  Positive \n",
      "\n",
      "সাধারণ মানুষদের থেকে ও তারা এভাবে খাই । পুলিশ না পলিথিন \n",
      " Sentiment:--  Negative \n",
      "\n",
      "দেশের যায় যায় অবস্থা আর এনারা আসছে দাদাদের সোদন দেখাতে , দালালি বন্ধ করে দেশের বর্তমান অবস্থা গুলো তুলে ধরুন  \n",
      " Sentiment:--  Negative \n",
      "\n",
      "অসংখ্য ধন্যবাদ যমুনা টিভি কে , এ রকম পরিস্থিতির সম্মুখীন হয়ে খবর প্রচারনার জন্নে  \n",
      " Sentiment:--  Positive \n",
      "\n",
      "তো আপনারা রাস্তায় কানা খাইলেন কেন এলাকায় কি ঘড় ছিল না \n",
      " Sentiment:--  Negative \n",
      "\n",
      "বাঘের বাচ্চা । অনেক নাটক শেষে আজ ধরা পড়লো \n",
      " Sentiment:--  Positive \n",
      "\n",
      "যারা জন্মের পর রাস্তায় কুকুর , বিড়ালের সাথে বড় হইছে , যারা বাবা , মার কাছে সেই শিক্ষাটা পায় নাই যে কিভাবে বড়দের সাথে কথা বলতে হয় । কিভাবে অপরিচিত মানুষের সাথে কথা বলতে হয়  \n",
      " Sentiment:--  Neutral \n",
      "\n",
      "অপরাধী ভাইরাল না কইরা এইসব গান ভাইরাল করা দরকার  \n",
      " Sentiment:--  Positive \n",
      "\n",
      "বাঘের বাচ্চা । অনেক নাটক শেষে আজ ধরা পড়লো \n",
      " Sentiment:--  Positive \n",
      "\n",
      "মামা হোটেল এ খাওয়া হইছে আমার । সব ঈ ঠিকঠাক কিন্তু পরিবেশ টা আরেকটু উন্নত হতে পারতো \n",
      " Sentiment:--  Positive \n",
      "\n",
      "হনুমান গুলো থানায় না গিয়ে ছাত্রলীগ বা যুবলীগ নেতার বাড়িতে গেলে বিচার ভাল পেতে পারে কারণ এখন তাদের হাতে খুব ক্ষমতা \n",
      " Sentiment:--  Negative \n",
      "\n",
      "আপনি মুখে দিই না বললে আমি বুঝতেই পারিনি , আপনি মুখে দিচ্ছিলেন নাকি গাঁড়ে দিচ্ছিলেন  \n",
      " Sentiment:--  Positive \n",
      "\n",
      "আমার ক্যাম্পাস । ধন্যবাদ , ভাই  \n",
      " Sentiment:--  Positive \n",
      "\n"
     ]
    }
   ],
   "source": [
    "# print some unprocessed reviews\n",
    "sample_data = [50,100,150,200,250,630,650,666,640,650,700,750,800,1000]\n",
    "for i in sample_data:\n",
    "      print(data.Data[i],'\\n','Sentiment:-- ',data.Label[i],'\\n')"
   ]
  },
  {
   "cell_type": "code",
   "execution_count": 14,
   "id": "d963a193-2aba-42ea-ac04-d68f0e687519",
   "metadata": {},
   "outputs": [
    {
     "data": {
      "image/png": "[encoded data removed]",
      "text/plain": [
       "<Figure size 900x300 with 1 Axes>"
      ]
     },
     "metadata": {},
     "output_type": "display_data"
    }
   ],
   "source": [
    "sns.set(font_scale=1.4)\n",
    "data['Label'].value_counts().plot(kind='barh', figsize=(9, 3))\n",
    "plt.xlabel(\"Number of Comments\", labelpad=12)\n",
    "plt.ylabel(\"Sentiment Class\", labelpad=12)\n",
    "plt.yticks(rotation = 45)\n",
    "plt.title(\"Dataset Distribution\", y=1.02);"
   ]
  },
  {
   "cell_type": "markdown",
   "id": "73fbec71-1125-41da-bc7d-831171c2fecd",
   "metadata": {},
   "source": [
    "### Data Cleaning"
   ]
  },
  {
   "cell_type": "code",
   "execution_count": 15,
   "id": "47215a36-51a1-4809-8c44-dd0446fd82ad",
   "metadata": {},
   "outputs": [],
   "source": [
    "# Data cleaning function\n",
    "def process_comments(Comment): \n",
    "    Comment = re.sub('[^\\u0980-\\u09FF]',' ',str(Comment)) #removing unnecessary punctuation\n",
    "    return Comment"
   ]
  },
  {
   "cell_type": "code",
   "execution_count": 16,
   "id": "b3447ac5-c5bb-450a-8632-db2e3a05bfc2",
   "metadata": {},
   "outputs": [
    {
     "name": "stdout",
     "output_type": "stream",
     "text": [
      "Original:\n",
      " ভর দুপুরে এত খাবার দেখে ভীষণ লোভ লাগল দাদা , দিদি কে দেখতে পেলে ভালো লাগত  \n",
      "Cleaned:\n",
      " ভর দুপুরে এত খাবার দেখে ভীষণ লোভ লাগল দাদা   দিদি কে দেখতে পেলে ভালো লাগত  \n",
      " Sentiment:--  Positive \n",
      "\n",
      "Original:\n",
      " ভালো লাগল বিউটি বোডিং দেখে । আমি শুনেছি বাংলাদেশ এর সাধীনতা র ইতিহাস এর সাথে একাত্ত্ব এই বোডিং হাউস \n",
      "Cleaned:\n",
      " ভালো লাগল বিউটি বোডিং দেখে   আমি শুনেছি বাংলাদেশ এর সাধীনতা র ইতিহাস এর সাথে একাত্ত্ব এই বোডিং হাউস \n",
      " Sentiment:--  Positive \n",
      "\n",
      "Original:\n",
      " আল্লাহ কে ভয় করা উচিত । অাল্লাহ চাইলে এর চেয়েও ভয়াবহ ভাবে পৃথিবী ধ্বংস করতে পারেন । এটা নমুনা মাত্র  \n",
      "Cleaned:\n",
      " আল্লাহ কে ভয় করা উচিত   অাল্লাহ চাইলে এর চেয়েও ভয়াবহ ভাবে পৃথিবী ধ্বংস করতে পারেন   এটা নমুনা মাত্র  \n",
      " Sentiment:--  Positive \n",
      "\n",
      "Original:\n",
      " বাংলাদেশের কি গুন , শুধু নিউজিই হয় । এত খুন ধর্ষণ হয় একটারও তো ফাঁসি হয় না । বলতে লজ্জা লাগে আমাদের দেশটা হয়ে যাচ্ছে মেরুদন্ডহীন দেশ  \n",
      "Cleaned:\n",
      " বাংলাদেশের কি গুন   শুধু নিউজিই হয়   এত খুন ধর্ষণ হয় একটারও তো ফাঁসি হয় না   বলতে লজ্জা লাগে আমাদের দেশটা হয়ে যাচ্ছে মেরুদন্ডহীন দেশ  \n",
      " Sentiment:--  Negative \n",
      "\n",
      "Original:\n",
      " আর বস্তির বেশিরভাগ পুলাপাইন এমন গান লাইক করে এবং গায় \n",
      "Cleaned:\n",
      " আর বস্তির বেশিরভাগ পুলাপাইন এমন গান লাইক করে এবং গায় \n",
      " Sentiment:--  Negative \n",
      "\n",
      "Original:\n",
      " এখনতো শীতকাল । বাংলাদেশে নানা রকম পিঠা তৈরী হয় । আশা করি বাংলাদেশের নানা রকম পিঠা নিয়ে একটি ব্লগ করবেন \n",
      "Cleaned:\n",
      " এখনতো শীতকাল   বাংলাদেশে নানা রকম পিঠা তৈরী হয়   আশা করি বাংলাদেশের নানা রকম পিঠা নিয়ে একটি ব্লগ করবেন \n",
      " Sentiment:--  Positive \n",
      "\n",
      "Original:\n",
      " ভাইয়া পোর্ট জটিলতা অনেকেরই থাকে । কিন্তু কিভাবে কি উপায়ে করবে তা অনেকেই জানেনা । আজকে ব্যাপারটা ক্লিয়ার হলো । অসংখ্য ধন্যবাদ \n",
      "Cleaned:\n",
      " ভাইয়া পোর্ট জটিলতা অনেকেরই থাকে   কিন্তু কিভাবে কি উপায়ে করবে তা অনেকেই জানেনা   আজকে ব্যাপারটা ক্লিয়ার হলো   অসংখ্য ধন্যবাদ \n",
      " Sentiment:--  Positive \n",
      "\n",
      "Original:\n",
      " ব্যাংকক ফুড টুর খুব ভাল লাগল । অাপনার প্রেজেনটেশন খুব এনারজেটিক হয়েছে \n",
      "Cleaned:\n",
      " ব্যাংকক ফুড টুর খুব ভাল লাগল   অাপনার প্রেজেনটেশন খুব এনারজেটিক হয়েছে \n",
      " Sentiment:--  Positive \n",
      "\n",
      "Original:\n",
      " রহস্যময় পৃথিবী ভদ্রভাবে কথা বলছি ভাল লাগছে না ? শুকর খাবি ? স্ট্যাক করে খাইতে পারবি । একদম সফট মিট । বোনলেস \n",
      "Cleaned:\n",
      " রহস্যময় পৃথিবী ভদ্রভাবে কথা বলছি ভাল লাগছে না   শুকর খাবি   স্ট্যাক করে খাইতে পারবি   একদম সফট মিট   বোনলেস \n",
      " Sentiment:--  Negative \n",
      "\n"
     ]
    }
   ],
   "source": [
    "# Apply the function into the dataframe\n",
    "data['cleaned'] = data['Data'].apply(process_comments)  \n",
    "\n",
    "# print some cleaned reviews from the dataset\n",
    "sample_data = [100,25,854,966,1500,1589,1700,4000,4500]\n",
    "for i in sample_data:\n",
    "     print('Original:\\n',data.Data[i],'\\nCleaned:\\n',\n",
    "           data.cleaned[i],'\\n','Sentiment:-- ',data.Label[i],'\\n')\n",
    "     "
   ]
  },
  {
   "cell_type": "markdown",
   "id": "8d162a05-b463-4a9b-afc8-3a09c45d4ce7",
   "metadata": {},
   "source": [
    "### Remove Low lenght data"
   ]
  },
  {
   "cell_type": "code",
   "execution_count": 17,
   "id": "85215296-ac7d-4488-b342-66a4a4fc1dc3",
   "metadata": {},
   "outputs": [
    {
     "name": "stdout",
     "output_type": "stream",
     "text": [
      "After Cleaning: \n",
      "Removed 7 Small Reviews \n",
      "Total Reviews: 12568\n"
     ]
    }
   ],
   "source": [
    "# Length of each Reveiws\n",
    "data['length'] = data['cleaned'].apply(lambda x:len(x.split()))\n",
    "# Remove the reviews with least words\n",
    "dataset = data.loc[data.length>1]\n",
    "dataset = dataset.reset_index(drop = True)\n",
    "print(\"After Cleaning:\",\"\\nRemoved {} Small Reviews\".format(len(data)-len(dataset)),\n",
    "      \"\\nTotal Reviews:\",len(dataset))"
   ]
  },
  {
   "cell_type": "markdown",
   "id": "148f9f82-c15a-4799-b1b6-74fa5f2b4a30",
   "metadata": {},
   "source": [
    "# Dataset Summary"
   ]
  },
  {
   "cell_type": "code",
   "execution_count": 18,
   "id": "0a7d5c9b-e9b2-4bf9-bf9f-0d8fd436d8ed",
   "metadata": {},
   "outputs": [
    {
     "name": "stdout",
     "output_type": "stream",
     "text": [
      "\n",
      "Class Name :  Positive\n",
      "Number of Documents:5133\n",
      "Number of Words:73627\n",
      "Number of Unique Words:13103\n",
      "Most Frequent Words:\n",
      "\n",
      "না\t1001\n",
      "ভাই\t977\n",
      "আপনার\t782\n",
      "ভালো\t753\n",
      "অনেক\t744\n",
      "আর\t627\n",
      "করে\t599\n",
      "আমি\t598\n",
      "জন্য\t597\n",
      "এই\t563\n",
      "\n",
      "Class Name :  Negative\n",
      "Number of Documents:4548\n",
      "Number of Words:68743\n",
      "Number of Unique Words:12373\n",
      "Most Frequent Words:\n",
      "\n",
      "না\t2071\n",
      "আর\t795\n",
      "করে\t785\n",
      "এই\t774\n",
      "কি\t670\n",
      "পুলিশ\t508\n",
      "হয়\t446\n",
      "তো\t395\n",
      "ভাই\t361\n",
      "টাকা\t360\n",
      "\n",
      "Class Name :  Neutral\n",
      "Number of Documents:2887\n",
      "Number of Words:34074\n",
      "Number of Unique Words:8565\n",
      "Most Frequent Words:\n",
      "\n",
      "না\t1150\n",
      "ভাই\t386\n",
      "কি\t377\n",
      "করে\t286\n",
      "আর\t284\n",
      "এই\t258\n",
      "হয়\t229\n",
      "থেকে\t229\n",
      "আমি\t220\n",
      "হবে\t197\n",
      "Total Number of Unique Words:23980\n"
     ]
    }
   ],
   "source": [
    "def data_summary(dataset):\n",
    "    \n",
    "    \"\"\"\n",
    "    This function will print the summary of the reviews and words distribution in the dataset. \n",
    "    \n",
    "    Args:\n",
    "        dataset: list of cleaned sentences   \n",
    "        \n",
    "    Returns:\n",
    "        Number of documnets per class: int \n",
    "        Number of words per class: int\n",
    "        Number of unique words per class: int\n",
    "    \"\"\"\n",
    "    documents = []\n",
    "    words = []\n",
    "    u_words = []\n",
    "    total_u_words = [word.strip().lower() for t in list(dataset.cleaned) for word in t.strip().split()]\n",
    "    class_label= [k for k,v in dataset.Label.value_counts().to_dict().items()]\n",
    "  # find word list\n",
    "    for label in class_label: \n",
    "        word_list = [word.strip().lower() for t in list(dataset[dataset.Label==label].cleaned) for word in t.strip().split()]\n",
    "        counts = dict()\n",
    "        for word in word_list:\n",
    "                counts[word] = counts.get(word, 0)+1\n",
    "        # sort the dictionary of word list  \n",
    "        ordered = sorted(counts.items(), key= lambda item: item[1],reverse = True)\n",
    "        # Documents per class\n",
    "        documents.append(len(list(dataset[dataset.Label==label].cleaned)))\n",
    "        # Total Word per class\n",
    "        words.append(len(word_list))\n",
    "        # Unique words per class \n",
    "        u_words.append(len(np.unique(word_list)))\n",
    "        \n",
    "        print(\"\\nClass Name : \",label)\n",
    "        print(\"Number of Documents:{}\".format(len(list(dataset[dataset.Label==label].cleaned))))  \n",
    "        print(\"Number of Words:{}\".format(len(word_list))) \n",
    "        print(\"Number of Unique Words:{}\".format(len(np.unique(word_list)))) \n",
    "        print(\"Most Frequent Words:\\n\")\n",
    "        for k,v in ordered[:10]:\n",
    "              print(\"{}\\t{}\".format(k,v))\n",
    "    print(\"Total Number of Unique Words:{}\".format(len(np.unique(total_u_words))))           \n",
    "   \n",
    "    return documents,words,u_words,class_label\n",
    "\n",
    "#call the fucntion\n",
    "documents,words,u_words,class_names = data_summary(dataset) "
   ]
  },
  {
   "cell_type": "markdown",
   "id": "9c7aa1b8-71be-4d66-b171-8457de42429f",
   "metadata": {},
   "source": [
    "### Dataset Summary Visualization"
   ]
  },
  {
   "cell_type": "code",
   "execution_count": 19,
   "id": "cbad3cf2-8616-44cf-9f9c-8988aedb8c54",
   "metadata": {},
   "outputs": [
    {
     "name": "stderr",
     "output_type": "stream",
     "text": [
      "/var/folders/9m/0wbdtdd96m7859zq2pz0f1l40000gn/T/ipykernel_868/3248998458.py:13: UserWarning: set_ticklabels() should only be used with a fixed number of ticks, i.e. after set_ticks() or using a FixedLocator.\n",
      "  ax.xaxis.set_ticklabels(class_names, rotation=45);\n"
     ]
    },
    {
     "data": {
      "image/png": "[encoded data removed]",
      "text/plain": [
       "<Figure size 600x400 with 1 Axes>"
      ]
     },
     "metadata": {},
     "output_type": "display_data"
    }
   ],
   "source": [
    "data_matrix = pd.DataFrame({'Total Documents':documents,\n",
    "                            'Total Words':words,\n",
    "                            'Unique Words':u_words,\n",
    "                            'Class Names':class_names})\n",
    "df = pd.melt(data_matrix, id_vars=\"Class Names\", var_name=\"Category\", value_name=\"Values\")\n",
    "plt.figure(figsize=(6, 4))\n",
    "ax = plt.subplot()\n",
    "\n",
    "sns.barplot(data=df,x='Class Names', y='Values' ,hue='Category')\n",
    "ax.set_xlabel('Class Names') \n",
    "ax.set_title('Data Statistics')\n",
    "\n",
    "ax.xaxis.set_ticklabels(class_names, rotation=45);"
   ]
  },
  {
   "cell_type": "markdown",
   "id": "801d0e4e-179e-465b-bb01-d992c1927184",
   "metadata": {},
   "source": [
    "### Comment Lenght Distribution"
   ]
  },
  {
   "cell_type": "code",
   "execution_count": 20,
   "id": "878846a3-40b0-4633-90ef-f475b292fba6",
   "metadata": {},
   "outputs": [
    {
     "data": {
      "image/png": "[encoded data removed]",
      "text/plain": [
       "<Figure size 640x480 with 1 Axes>"
      ]
     },
     "metadata": {},
     "output_type": "display_data"
    },
    {
     "name": "stdout",
     "output_type": "stream",
     "text": [
      "Maximum Length of a Comments: 57\n",
      "Minimum Length of a Comments: 2\n",
      "Average Length of a Comments: 14.0\n"
     ]
    }
   ],
   "source": [
    "# Calculate the Review of each of the Review\n",
    "dataset['ReviewLength'] = dataset.cleaned.apply(lambda x:len(x.split()))\n",
    "frequency = dict()\n",
    "for i in dataset.ReviewLength:\n",
    "    frequency[i] = frequency.get(i, 0)+1\n",
    "\n",
    "plt.bar(frequency.keys(), frequency.values(), color =\"b\")\n",
    "plt.xlim(1, 135)\n",
    "# in this notbook color is not working but it should work.\n",
    "plt.xlabel('Lenght of the Texts')\n",
    "plt.ylabel('Frequency')\n",
    "plt.title('Length-Frequency Distribution')\n",
    "plt.show()  \n",
    "print(f\"Maximum Length of a Comments: {max(dataset.ReviewLength)}\")\n",
    "print(f\"Minimum Length of a Comments: {min(dataset.ReviewLength)}\")\n",
    "print(f\"Average Length of a Comments: {round(np.mean(dataset.ReviewLength),0)}\")"
   ]
  },
  {
   "cell_type": "markdown",
   "id": "004d6856-ff72-4f65-94aa-730810ff0d07",
   "metadata": {},
   "source": [
    "# Model Building"
   ]
  },
  {
   "cell_type": "markdown",
   "id": "84ca8eda-7f01-42cf-baec-c7c9ed4d6648",
   "metadata": {},
   "source": [
    "### Taking only positive and negative datasets"
   ]
  },
  {
   "cell_type": "code",
   "execution_count": 21,
   "id": "d1ac91b8-6b66-4e67-a46a-8625b5a36190",
   "metadata": {},
   "outputs": [
    {
     "data": {
      "text/plain": [
       "Label\n",
       "Positive    5133\n",
       "Negative    4548\n",
       "Name: count, dtype: int64"
      ]
     },
     "execution_count": 21,
     "metadata": {},
     "output_type": "execute_result"
    }
   ],
   "source": [
    "# since the number of positive and negative comments are more than neutral we are taking the big two\n",
    "positive = dataset[dataset.Label == 'Positive']\n",
    "negative = dataset[dataset.Label == 'Negative']\n",
    "dataset = pd.concat([positive, negative])\n",
    "dataset.Label.value_counts()"
   ]
  },
  {
   "cell_type": "markdown",
   "id": "8eb7d238-cd92-4b88-a26c-64d552d33cf8",
   "metadata": {},
   "source": [
    "### Lable Encoding and Dataset Splitting"
   ]
  },
  {
   "cell_type": "code",
   "execution_count": 16,
   "id": "1966eeff-c829-4cc1-a1a8-403bb1415e59",
   "metadata": {},
   "outputs": [],
   "source": [
    "                                       #==================================================\n",
    "                                       ################# Label Encoding Function #########\n",
    "                                       #==================================================\n",
    "\n",
    "def label_encoding(sentiment,bool):\n",
    "    \"\"\"\n",
    "    This function will return the encoded labels in array format. \n",
    "    \n",
    "    Args:\n",
    "        sentiment: series of class names(str)\n",
    "        bool: boolean (True or False)\n",
    "        \n",
    "    Returns:\n",
    "        labels: numpy array \n",
    "    \"\"\"\n",
    "    le = LabelEncoder()\n",
    "    le.fit(sentiment)\n",
    "    encoded_labels = le.transform(sentiment)\n",
    "    labels = np.array(encoded_labels) # Converting into numpy array\n",
    "    class_names =le.classes_ ## Define the class names again\n",
    "    if bool == True:\n",
    "        print(\"\\n\\t\\t\\t===== Label Encoding =====\",\"\\nClass Names:-->\",le.classes_)\n",
    "        for i in sample_data:\n",
    "            print(sentiment[i],' ', encoded_labels[i],'\\n')\n",
    "\n",
    "    return labels\n",
    "\n",
    "\n",
    "\n",
    "                           #===========================================================\n",
    "                           ################# Dataset Splitting Function ###############\n",
    "                           #=========================================================== \n",
    "\n",
    "def dataset_split(feature_space,sentiment):\n",
    "    \"\"\"\n",
    "    This function will return the splitted (80%-20%) feature vector . \n",
    "    \n",
    "    Args:\n",
    "        feature_space: calcuated feature vector (sparse matrix)\n",
    "        sentiment: encoded lables (array) \n",
    "        \n",
    "    Returns:\n",
    "        X_train: training feature vector (sparse matrix)\n",
    "        X_test : testing feature vector (sparse matrix)\n",
    "        y_train: training encoded labels (array) \n",
    "        y_test : testing encoded labels (array) \n",
    "    \"\"\"\n",
    "\n",
    "    X_train,X_test,y_train,y_test = train_test_split(feature_space,sentiment,train_size = 0.9,\n",
    "                                                  test_size = 0.1,random_state =0)\n",
    "    print(\"Feature Size :======>\",X_train.shape[1])\n",
    "    print(\"\\nDataset Distribution:\\n\")\n",
    "    print(\"\\tSet Name\",\"\\t\\tSize\")\n",
    "    print(\"\\t========\\t\\t======\")\n",
    "\n",
    "    print(\"\\tFull\\t\\t\\t\",feature_space.shape[0],\n",
    "        \"\\n\\tTraining\\t\\t\",X_train.shape[0],\n",
    "        \"\\n\\tTest\\t\\t\\t\",X_test.shape[0])\n",
    "  \n",
    "    return X_train,X_test,y_train,y_test\n",
    "     "
   ]
  },
  {
   "cell_type": "code",
   "execution_count": 17,
   "id": "8d997065-a4db-4911-84ee-67304bab31c6",
   "metadata": {},
   "outputs": [],
   "source": [
    "dataset.cleaned = dataset.cleaned.apply(lambda x:x.replace('\\n',' '))"
   ]
  },
  {
   "cell_type": "markdown",
   "id": "e6b1b784-0a41-4fb1-9243-536d0712ab25",
   "metadata": {},
   "source": [
    "### Feature Extraction Using TF-IDF"
   ]
  },
  {
   "cell_type": "code",
   "execution_count": 18,
   "id": "88acb42d-b54b-46d0-80d8-ff3a78845109",
   "metadata": {},
   "outputs": [],
   "source": [
    "\n",
    "                                            #======================================\n",
    "                                            ##### Unigram Tf-idf value calculation\n",
    "                                            #======================================\n",
    "            \n",
    "def calc_gram_tfidf(reviews,gram):\n",
    "    \"\"\"\n",
    "    This function will return the tf-idf value of the respective gram features . \n",
    "    \n",
    "    Args:\n",
    "        reviews: a list of cleaned reviews   \n",
    "        \n",
    "    Returns:\n",
    "        tfidf: a instance of TfidfVectorizer\n",
    "        X : Unigram Feature Vector (sparse matrix)\n",
    "    \"\"\"\n",
    "    tfidf = TfidfVectorizer(ngram_range=gram,use_idf=True,tokenizer=lambda x: x.split()) \n",
    "    X = tfidf.fit_transform(reviews)\n",
    "    \n",
    "    return tfidf,X"
   ]
  },
  {
   "cell_type": "code",
   "execution_count": 19,
   "id": "2a61f223-f12d-4ea7-9e11-297d5e728aae",
   "metadata": {},
   "outputs": [],
   "source": [
    "\n",
    "from sklearn.linear_model import LogisticRegression\n",
    "from sklearn.tree import DecisionTreeClassifier\n",
    "from sklearn.ensemble import RandomForestClassifier\n",
    "from sklearn.naive_bayes import MultinomialNB\n",
    "from sklearn.neighbors import KNeighborsClassifier\n",
    "from sklearn.svm import SVC\n",
    "from sklearn.linear_model import SGDClassifier\n",
    "from sklearn.metrics import classification_report,accuracy_score,precision_score,recall_score,f1_score\n",
    "from sklearn.metrics import roc_curve, roc_auc_score\n",
    "from sklearn.metrics import average_precision_score,roc_auc_score, roc_curve, precision_recall_curve\n",
    "     "
   ]
  },
  {
   "cell_type": "code",
   "execution_count": 20,
   "id": "e95e4fe3-c510-4d61-ac75-6926ef92a576",
   "metadata": {},
   "outputs": [],
   "source": [
    "\n",
    "                                              #============================================\n",
    "                                              #########  Classifiers Defination  #########\n",
    "                                              #============================================\n",
    "def ml_models_defination(): \n",
    "    \"\"\"\n",
    "    This function consists the models defination for All gram Features\n",
    "    \n",
    "    Retuns:\n",
    "        ml_models: list of models\n",
    "        model_names: list of model_names\n",
    "    \n",
    "    \"\"\"\n",
    "    \n",
    "    lr_model = LogisticRegression(random_state = 123)\n",
    "    dt_model = DecisionTreeClassifier(criterion = 'entropy', random_state = 0)\n",
    "    rf_model = RandomForestClassifier(n_estimators=100, criterion ='entropy', random_state = 0)\n",
    "    mnb_model = MultinomialNB(alpha=0.15)\n",
    "    knn_model = KNeighborsClassifier(n_neighbors=3, metric = 'minkowski')\n",
    "    lsvm_model = SVC(kernel = 'linear',C = 0.2, probability=True, random_state = 0)\n",
    "    ksvm_model = SVC(C= 1000,kernel = 'rbf',probability=True, gamma = 0.00015, random_state = 0)\n",
    "    model_names = ['Logistic Regression','Decision Tree','Random Forest','Naive Bayes','KNN','Linear SVM','Kernel SVM']\n",
    "    #model_names = ['Logistic Regression']\n",
    "    # Create list of models\n",
    "    ml_models = [lr_model,dt_model,rf_model,mnb_model,knn_model,lsvm_model,ksvm_model]\n",
    "    #ml_models = [lr_model]\n",
    "    return ml_models,model_names \n",
    "\n",
    "\n",
    "                                          #============================================\n",
    "                                           ####### Model Evaluation Function ############\n",
    "                                           #=============================================\n",
    "\n",
    "def model_performace(model,X_train,X_test,y_train,y_test):\n",
    "    \"\"\"\n",
    "    This function will return the performance parameter values of each ML models.\n",
    "    Performance parameters are Accuracy, F1-Score, Precision, Recall.\n",
    "    \n",
    "    Args:\n",
    "        model: a ML model instance\n",
    "        X_train: training feature vector (sparse matrix)\n",
    "        X_test : testing feature vector (sparse matrix)\n",
    "        y_train: training encoded labels (array) \n",
    "        y_test : testing encoded labels (array) \n",
    "        \n",
    "    Returns:\n",
    "        my_dict: a dictionary of all the parameters for each models\n",
    "    \"\"\"\n",
    "    my_dict = {}\n",
    "    model.fit(X_train,y_train)\n",
    "    # Prediction\n",
    "    pred_y = model.predict(X_test)\n",
    "    my_dict['Accuracy'] = round(accuracy_score(y_test, pred_y),4)*100 \n",
    "    my_dict['Precision'] = round(precision_score(y_test, pred_y),4)*100 \n",
    "    my_dict['Recall'] = round(recall_score(y_test, pred_y),4)*100 \n",
    "    my_dict['F1 Score'] = round(f1_score(y_test, pred_y),4)*100 \n",
    "    \n",
    "    return my_dict  \n",
    "\n",
    "                                        #========================================\n",
    "                                        #### Model Performane into Dataframe #####\n",
    "                                        #=========================================\n",
    "            \n",
    "def performance_table(performance_dict):\n",
    "    \"\"\"\n",
    "    This function will create a dataframe of all the performance parameters.\n",
    "    \n",
    "    Args:\n",
    "        performance_dict: a dictionary of all the parameters for each models\n",
    "        \n",
    "    Returns:\n",
    "        performance_df: a dataframe\n",
    "    \"\"\"\n",
    "\n",
    "    acc_list = []\n",
    "    pr_list = []\n",
    "    re_list = []\n",
    "    f1_list = []\n",
    "    for i in performance_dict.keys():\n",
    "        acc_list.append(performance_dict[i]['Accuracy'])\n",
    "        pr_list.append(performance_dict[i]['Precision'])\n",
    "        re_list.append(performance_dict[i]['Recall'])\n",
    "        f1_list.append(performance_dict[i]['F1 Score'])\n",
    "\n",
    "    # Create a dataframe\n",
    "    model_names = ['LR','DT','RF','MNB','KNN','Linear SVM','RBF SVM']\n",
    "    performance_df = pd.DataFrame({'Accuracy':acc_list,'Precision':pr_list,\n",
    "                                   'Recall':re_list,'F1 Score':f1_list,\n",
    "                                   'Model Name':model_names })\n",
    "    return performance_df    "
   ]
  },
  {
   "cell_type": "markdown",
   "id": "209ea9bd-22ba-4649-b4a0-03a63643e347",
   "metadata": {},
   "source": [
    "# Model Training"
   ]
  },
  {
   "cell_type": "code",
   "execution_count": 21,
   "id": "b8aeaf50-b0df-4087-8fc0-b4b2779c0e27",
   "metadata": {},
   "outputs": [
    {
     "name": "stderr",
     "output_type": "stream",
     "text": [
      "/Library/Frameworks/Python.framework/Versions/3.12/lib/python3.12/site-packages/sklearn/feature_extraction/text.py:521: UserWarning: The parameter 'token_pattern' will not be used since 'tokenizer' is not None'\n",
      "  warnings.warn(\n"
     ]
    },
    {
     "name": "stdout",
     "output_type": "stream",
     "text": [
      "Feature Size :======> 20748\n",
      "\n",
      "Dataset Distribution:\n",
      "\n",
      "\tSet Name \t\tSize\n",
      "\t========\t\t======\n",
      "\tFull\t\t\t 9681 \n",
      "\tTraining\t\t 8712 \n",
      "\tTest\t\t\t 969\n"
     ]
    },
    {
     "name": "stderr",
     "output_type": "stream",
     "text": [
      "/Library/Frameworks/Python.framework/Versions/3.12/lib/python3.12/site-packages/sklearn/feature_extraction/text.py:521: UserWarning: The parameter 'token_pattern' will not be used since 'tokenizer' is not None'\n",
      "  warnings.warn(\n"
     ]
    },
    {
     "name": "stdout",
     "output_type": "stream",
     "text": [
      "Feature Size :======> 107881\n",
      "\n",
      "Dataset Distribution:\n",
      "\n",
      "\tSet Name \t\tSize\n",
      "\t========\t\t======\n",
      "\tFull\t\t\t 9681 \n",
      "\tTraining\t\t 8712 \n",
      "\tTest\t\t\t 969\n"
     ]
    },
    {
     "name": "stderr",
     "output_type": "stream",
     "text": [
      "/Library/Frameworks/Python.framework/Versions/3.12/lib/python3.12/site-packages/sklearn/feature_extraction/text.py:521: UserWarning: The parameter 'token_pattern' will not be used since 'tokenizer' is not None'\n",
      "  warnings.warn(\n"
     ]
    },
    {
     "name": "stdout",
     "output_type": "stream",
     "text": [
      "Feature Size :======> 210293\n",
      "\n",
      "Dataset Distribution:\n",
      "\n",
      "\tSet Name \t\tSize\n",
      "\t========\t\t======\n",
      "\tFull\t\t\t 9681 \n",
      "\tTraining\t\t 8712 \n",
      "\tTest\t\t\t 969\n"
     ]
    }
   ],
   "source": [
    "gram_names = ['Unigram','Bigram','Trigram']\n",
    "ngrams = [(1,1),(1,2),(1,3)]\n",
    "for i,gram in enumerate(ngrams):\n",
    "    tfidf,feature = calc_gram_tfidf(dataset.cleaned,gram)\n",
    "    labels = label_encoding(dataset.Label,False)\n",
    "    X_train,X_test,y_train,y_test = dataset_split(feature,labels) \n",
    "    ml_models,model_names = ml_models_defination()\n",
    "    accuracy = {f'{model_names[j]}':model_performace(model,X_train,X_test,y_train,y_test) for j,model in enumerate(ml_models)}"
   ]
  },
  {
   "cell_type": "markdown",
   "id": "a7560928-74f3-457f-9c3e-c8114d2991aa",
   "metadata": {},
   "source": [
    "# Performance Table"
   ]
  },
  {
   "cell_type": "code",
   "execution_count": 23,
   "id": "6137ec4b-ab93-47af-bfa7-382a6a248f49",
   "metadata": {},
   "outputs": [
    {
     "name": "stderr",
     "output_type": "stream",
     "text": [
      "/Library/Frameworks/Python.framework/Versions/3.12/lib/python3.12/site-packages/sklearn/feature_extraction/text.py:521: UserWarning: The parameter 'token_pattern' will not be used since 'tokenizer' is not None'\n",
      "  warnings.warn(\n"
     ]
    },
    {
     "name": "stdout",
     "output_type": "stream",
     "text": [
      "Feature Size :======> 20748\n",
      "\n",
      "Dataset Distribution:\n",
      "\n",
      "\tSet Name \t\tSize\n",
      "\t========\t\t======\n",
      "\tFull\t\t\t 9681 \n",
      "\tTraining\t\t 8712 \n",
      "\tTest\t\t\t 969\n",
      "\n",
      "========== Performace Table for Unigram feature:========\n",
      "\n",
      "Model: LR\n",
      "Accuracy: 81.11\n",
      "F1-Score: 82.39\n",
      "Precision: 80.75\n",
      "Recall: 84.09\n",
      "\n",
      "Model: DT\n",
      "Accuracy: 77.3\n",
      "F1-Score: 78.25999999999999\n",
      "Precision: 78.73\n",
      "Recall: 77.8\n",
      "\n",
      "Model: RF\n",
      "Accuracy: 82.35\n",
      "F1-Score: 83.64\n",
      "Precision: 81.53\n",
      "Recall: 85.85000000000001\n",
      "\n",
      "Model: MNB\n",
      "Accuracy: 82.04\n",
      "F1-Score: 83.24000000000001\n",
      "Precision: 81.66\n",
      "Recall: 84.87\n",
      "\n",
      "Model: KNN\n",
      "Accuracy: 73.99\n",
      "F1-Score: 75.25\n",
      "Precision: 75.25\n",
      "Recall: 75.25\n",
      "\n",
      "Model: Linear SVM\n",
      "Accuracy: 80.28999999999999\n",
      "F1-Score: 81.76\n",
      "Precision: 79.55\n",
      "Recall: 84.09\n",
      "\n",
      "Model: RBF SVM\n",
      "Accuracy: 80.91000000000001\n",
      "F1-Score: 82.3\n",
      "Precision: 80.22\n",
      "Recall: 84.48\n",
      "\n"
     ]
    },
    {
     "name": "stderr",
     "output_type": "stream",
     "text": [
      "/Library/Frameworks/Python.framework/Versions/3.12/lib/python3.12/site-packages/sklearn/feature_extraction/text.py:521: UserWarning: The parameter 'token_pattern' will not be used since 'tokenizer' is not None'\n",
      "  warnings.warn(\n"
     ]
    },
    {
     "name": "stdout",
     "output_type": "stream",
     "text": [
      "Feature Size :======> 107881\n",
      "\n",
      "Dataset Distribution:\n",
      "\n",
      "\tSet Name \t\tSize\n",
      "\t========\t\t======\n",
      "\tFull\t\t\t 9681 \n",
      "\tTraining\t\t 8712 \n",
      "\tTest\t\t\t 969\n",
      "\n",
      "========== Performace Table for Bigram feature:========\n",
      "\n",
      "Model: LR\n",
      "Accuracy: 82.46\n",
      "F1-Score: 83.62\n",
      "Precision: 82.04\n",
      "Recall: 85.27\n",
      "\n",
      "Model: DT\n",
      "Accuracy: 75.53999999999999\n",
      "F1-Score: 76.46\n",
      "Precision: 77.31\n",
      "Recall: 75.64\n",
      "\n",
      "Model: RF\n",
      "Accuracy: 82.66\n",
      "F1-Score: 84.09\n",
      "Precision: 81.17\n",
      "Recall: 87.22999999999999\n",
      "\n",
      "Model: MNB\n",
      "Accuracy: 83.59\n",
      "F1-Score: 84.49\n",
      "Precision: 83.91\n",
      "Recall: 85.07000000000001\n",
      "\n",
      "Model: KNN\n",
      "Accuracy: 75.94999999999999\n",
      "F1-Score: 77.27000000000001\n",
      "Precision: 76.74\n",
      "Recall: 77.8\n",
      "\n",
      "Model: Linear SVM\n",
      "Accuracy: 80.5\n",
      "F1-Score: 82.15\n",
      "Precision: 79.09\n",
      "Recall: 85.46000000000001\n",
      "\n",
      "Model: RBF SVM\n",
      "Accuracy: 81.53\n",
      "F1-Score: 82.89999999999999\n",
      "Precision: 80.67\n",
      "Recall: 85.27\n",
      "\n"
     ]
    },
    {
     "name": "stderr",
     "output_type": "stream",
     "text": [
      "/Library/Frameworks/Python.framework/Versions/3.12/lib/python3.12/site-packages/sklearn/feature_extraction/text.py:521: UserWarning: The parameter 'token_pattern' will not be used since 'tokenizer' is not None'\n",
      "  warnings.warn(\n"
     ]
    },
    {
     "name": "stdout",
     "output_type": "stream",
     "text": [
      "Feature Size :======> 210293\n",
      "\n",
      "Dataset Distribution:\n",
      "\n",
      "\tSet Name \t\tSize\n",
      "\t========\t\t======\n",
      "\tFull\t\t\t 9681 \n",
      "\tTraining\t\t 8712 \n",
      "\tTest\t\t\t 969\n",
      "\n",
      "========== Performace Table for Trigram feature:========\n",
      "\n",
      "Model: LR\n",
      "Accuracy: 82.66\n",
      "F1-Score: 83.91\n",
      "Precision: 81.87\n",
      "Recall: 86.05000000000001\n",
      "\n",
      "Model: DT\n",
      "Accuracy: 76.25999999999999\n",
      "F1-Score: 77.45\n",
      "Precision: 77.3\n",
      "Recall: 77.60000000000001\n",
      "\n",
      "Model: RF\n",
      "Accuracy: 82.46\n",
      "F1-Score: 83.89999999999999\n",
      "Precision: 80.99\n",
      "Recall: 87.03\n",
      "\n",
      "Model: MNB\n",
      "Accuracy: 83.17999999999999\n",
      "F1-Score: 84.1\n",
      "Precision: 83.53\n",
      "Recall: 84.68\n",
      "\n",
      "Model: KNN\n",
      "Accuracy: 75.85\n",
      "F1-Score: 77.14999999999999\n",
      "Precision: 76.7\n",
      "Recall: 77.60000000000001\n",
      "\n",
      "Model: Linear SVM\n",
      "Accuracy: 79.97999999999999\n",
      "F1-Score: 82.07\n",
      "Precision: 77.49000000000001\n",
      "Recall: 87.22999999999999\n",
      "\n",
      "Model: RBF SVM\n",
      "Accuracy: 81.84\n",
      "F1-Score: 83.27\n",
      "Precision: 80.66\n",
      "Recall: 86.05000000000001\n",
      "\n"
     ]
    }
   ],
   "source": [
    "gram_names = ['Unigram','Bigram','Trigram']\n",
    "\n",
    "for gram in gram_names:\n",
    "  if gram == 'Unigram':\n",
    "    ngram_range = (1, 1)\n",
    "  elif gram == 'Bigram':\n",
    "    ngram_range = (1, 2)\n",
    "  elif gram == 'Trigram':\n",
    "    ngram_range = (1, 3)\n",
    "  \n",
    "  tfidf,feature = calc_gram_tfidf(dataset.cleaned,ngram_range)\n",
    "  labels = label_encoding(dataset.Label,False)\n",
    "  X_train,X_test,y_train,y_test = dataset_split(feature,labels) \n",
    "  ml_models,model_names = ml_models_defination()\n",
    "  model_names = ['LR','DT','RF','MNB','KNN','Linear SVM','RBF SVM']\n",
    "  accuracy = {f'{model_names[j]}':model_performace(model,X_train,X_test,y_train,y_test) for j,model in enumerate(ml_models)}\n",
    "  \n",
    "  print(f\"\\n========== Performace Table for {gram} feature:========\\n\")\n",
    "  \n",
    "  # Calculate and print the performance metrics\n",
    "  for model_name, metrics in accuracy.items():\n",
    "    print(f\"Model: {model_name}\")\n",
    "    print(f\"Accuracy: {metrics['Accuracy']}\")\n",
    "    print(f\"F1-Score: {metrics['F1 Score']}\")\n",
    "    print(f\"Precision: {metrics['Precision']}\")\n",
    "    print(f\"Recall: {metrics['Recall']}\")\n",
    "    print()"
   ]
  },
  {
   "cell_type": "markdown",
   "id": "615356e5-d369-499c-a49c-5cc3484ac9b7",
   "metadata": {},
   "source": [
    "# Conclusion"
   ]
  },
  {
   "cell_type": "markdown",
   "id": "e9ac5afb-0d81-4498-bff5-d24e37b38262",
   "metadata": {},
   "source": [
    "### From this performance table it can be said that the Trigarm and Bigarm feature combination with Multinomial Naive Bayes classifier provides highest accuray and F1-score value."
   ]
  },
  {
   "cell_type": "code",
   "execution_count": 25,
   "id": "f4b6bd82-755c-46d2-be49-757a51f9f14d",
   "metadata": {},
   "outputs": [
    {
     "name": "stderr",
     "output_type": "stream",
     "text": [
      "/Library/Frameworks/Python.framework/Versions/3.12/lib/python3.12/site-packages/sklearn/feature_extraction/text.py:521: UserWarning: The parameter 'token_pattern' will not be used since 'tokenizer' is not None'\n",
      "  warnings.warn(\n"
     ]
    },
    {
     "name": "stdout",
     "output_type": "stream",
     "text": [
      "Feature Size :======> 20748\n",
      "\n",
      "Dataset Distribution:\n",
      "\n",
      "\tSet Name \t\tSize\n",
      "\t========\t\t======\n",
      "\tFull\t\t\t 9681 \n",
      "\tTraining\t\t 8712 \n",
      "\tTest\t\t\t 969\n"
     ]
    },
    {
     "data": {
      "image/png": "[encoded data removed]",
      "text/plain": [
       "<Figure size 640x480 with 1 Axes>"
      ]
     },
     "metadata": {},
     "output_type": "display_data"
    },
    {
     "name": "stderr",
     "output_type": "stream",
     "text": [
      "/Library/Frameworks/Python.framework/Versions/3.12/lib/python3.12/site-packages/sklearn/feature_extraction/text.py:521: UserWarning: The parameter 'token_pattern' will not be used since 'tokenizer' is not None'\n",
      "  warnings.warn(\n"
     ]
    },
    {
     "name": "stdout",
     "output_type": "stream",
     "text": [
      "Feature Size :======> 107881\n",
      "\n",
      "Dataset Distribution:\n",
      "\n",
      "\tSet Name \t\tSize\n",
      "\t========\t\t======\n",
      "\tFull\t\t\t 9681 \n",
      "\tTraining\t\t 8712 \n",
      "\tTest\t\t\t 969\n"
     ]
    },
    {
     "data": {
      "image/png": "[encoded data removed]",
      "text/plain": [
       "<Figure size 640x480 with 1 Axes>"
      ]
     },
     "metadata": {},
     "output_type": "display_data"
    },
    {
     "name": "stderr",
     "output_type": "stream",
     "text": [
      "/Library/Frameworks/Python.framework/Versions/3.12/lib/python3.12/site-packages/sklearn/feature_extraction/text.py:521: UserWarning: The parameter 'token_pattern' will not be used since 'tokenizer' is not None'\n",
      "  warnings.warn(\n"
     ]
    },
    {
     "name": "stdout",
     "output_type": "stream",
     "text": [
      "Feature Size :======> 210293\n",
      "\n",
      "Dataset Distribution:\n",
      "\n",
      "\tSet Name \t\tSize\n",
      "\t========\t\t======\n",
      "\tFull\t\t\t 9681 \n",
      "\tTraining\t\t 8712 \n",
      "\tTest\t\t\t 969\n"
     ]
    },
    {
     "data": {
      "image/png": "[encoded data removed]",
      "text/plain": [
       "<Figure size 640x480 with 1 Axes>"
      ]
     },
     "metadata": {},
     "output_type": "display_data"
    }
   ],
   "source": [
    "import matplotlib.pyplot as plt\n",
    "\n",
    "gram_names = ['Unigram','Bigram','Trigram']\n",
    "\n",
    "for gram in gram_names:\n",
    "  if gram == 'Unigram':\n",
    "    ngram_range = (1, 1)\n",
    "  elif gram == 'Bigram':\n",
    "    ngram_range = (1, 2)\n",
    "  elif gram == 'Trigram':\n",
    "    ngram_range = (1, 3)\n",
    "  \n",
    "  tfidf,feature = calc_gram_tfidf(dataset.cleaned,ngram_range)\n",
    "  labels = label_encoding(dataset.Label,False)\n",
    "  X_train,X_test,y_train,y_test = dataset_split(feature,labels) \n",
    "  ml_models,model_names = ml_models_defination()\n",
    "  \n",
    "  accuracy = {f'{model_names[j]}':model_performace(model,X_train,X_test,y_train,y_test) for j,model in enumerate(ml_models)}\n",
    "  \n",
    "  #print(f\"\\n========== Performace Table for {gram} feature:========\\n\")\n",
    "  \n",
    "  # Calculate and print the performance metrics\n",
    "  #for model_name, metrics in accuracy.items():\n",
    "    #print(f\"Model: {model_name}\")\n",
    "    #print(f\"Accuracy: {metrics['Accuracy']}\")\n",
    "    #print(f\"F1-Score: {metrics['F1 Score']}\")\n",
    "    #print(f\"Precision: {metrics['Precision']}\")\n",
    "    #print(f\"Recall: {metrics['Recall']}\")\n",
    "    #print()\n",
    "  \n",
    "  # Create a bar chart for the accuracy of each model\n",
    "  models = list(accuracy.keys())\n",
    "  accuracies = [metrics['Accuracy'] for metrics in accuracy.values()]\n",
    "  plt.bar(models, accuracies)\n",
    "  plt.xlabel('Model')\n",
    "  plt.ylabel('Accuracy')\n",
    "  plt.title(f'Accuracy of each model for {gram} feature')\n",
    "  plt.show()"
   ]
  },
  {
   "cell_type": "code",
   "execution_count": null,
   "id": "8baf179b-29f8-4d12-9aa2-47ccb4c16440",
   "metadata": {},
   "outputs": [],
   "source": []
  },
  {
   "cell_type": "code",
   "execution_count": null,
   "id": "0bbfe60b-5b3c-4f2e-92d7-3644f9816bf1",
   "metadata": {},
   "outputs": [],
   "source": []
  }
 ],
 "metadata": {
  "kernelspec": {
   "display_name": "Python 3 (ipykernel)",
   "language": "python",
   "name": "python3"
  },
  "language_info": {
   "codemirror_mode": {
    "name": "ipython",
    "version": 3
   },
   "file_extension": ".py",
   "mimetype": "text/x-python",
   "name": "python",
   "nbconvert_exporter": "python",
   "pygments_lexer": "ipython3",
   "version": "3.12.2"
  }
 },
 "nbformat": 4,
 "nbformat_minor": 5
}
